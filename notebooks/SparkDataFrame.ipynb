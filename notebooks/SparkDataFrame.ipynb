{
 "cells": [
  {
   "cell_type": "markdown",
   "id": "3e644a77-71fa-4070-b5af-38bdc08c987f",
   "metadata": {},
   "source": [
    "## Spark DataFrame Basics"
   ]
  },
  {
   "cell_type": "code",
   "execution_count": 1,
   "id": "d1958014-2aa8-4bd2-b144-25e357eff6da",
   "metadata": {},
   "outputs": [],
   "source": [
    "from pathlib import Path\n",
    "from pyspark.sql import SparkSession\n",
    "import pandas as pd\n",
    "import numpy as np\n",
    "import json"
   ]
  },
  {
   "cell_type": "markdown",
   "id": "7a1284f8-11a5-49d2-bace-d3dd2720f3ed",
   "metadata": {},
   "source": [
    "### Define Row Data Path"
   ]
  },
  {
   "cell_type": "code",
   "execution_count": 6,
   "id": "a4b8d631-927e-4d13-bca2-3c5db0c9c6df",
   "metadata": {},
   "outputs": [
    {
     "name": "stdout",
     "output_type": "stream",
     "text": [
      "/home/boran/Desktop/financial-ETL/data/stock_data.csv\n"
     ]
    }
   ],
   "source": [
    "DATA_DIR = Path().resolve().parent / \"data\" \n",
    "data_path = DATA_DIR / \"stock_data.csv\"\n",
    "print(data_path)"
   ]
  },
  {
   "cell_type": "markdown",
   "id": "19de0949-b084-4a8b-96a5-c28df264df5f",
   "metadata": {},
   "source": [
    "### Create Spark DataFrame"
   ]
  },
  {
   "cell_type": "code",
   "execution_count": 13,
   "id": "26c5f672-f7fa-4ad1-8f85-3e405867ddc0",
   "metadata": {},
   "outputs": [
    {
     "name": "stderr",
     "output_type": "stream",
     "text": [
      "                                                                                "
     ]
    }
   ],
   "source": [
    "# Create Spark session\n",
    "spark = SparkSession.builder.appName(\"Basics\").getOrCreate()\n",
    "\n",
    "df = spark.read.csv(str(data_path), inferSchema=True, header=True)"
   ]
  },
  {
   "cell_type": "code",
   "execution_count": 14,
   "id": "808c2c8a-f784-48df-8243-c87bf66fdb5b",
   "metadata": {},
   "outputs": [
    {
     "name": "stdout",
     "output_type": "stream",
     "text": [
      "+----------+------+--------+-------+--------+--------+\n",
      "|      Date| Close|  Volume|   Open|    High|     Low|\n",
      "+----------+------+--------+-------+--------+--------+\n",
      "|2024-11-25|232.87|90152830| 231.46| 233.245|  229.74|\n",
      "|2024-11-22|229.87|38168250| 228.06|230.7199|  228.06|\n",
      "|2024-11-21|228.52|42108330| 228.88| 230.155|225.7103|\n",
      "|2024-11-20| 229.0|35169570| 228.06|  229.93|  225.89|\n",
      "|2024-11-19|228.28|36211770| 226.98|  230.16|  226.66|\n",
      "|2024-11-18|228.02|44686020| 225.25|  229.74|  225.17|\n",
      "|2024-11-15| 225.0|47923700|  226.4|  226.92|  224.27|\n",
      "|2024-11-14|228.22|44923940| 225.02|  228.87|   225.0|\n",
      "|2024-11-13|225.12|48566220| 224.01|  226.65|  222.76|\n",
      "|2024-11-12|224.23|40398300| 224.55|  225.59| 223.355|\n",
      "|2024-11-11|224.23|42005600|  225.0|   225.7|   221.5|\n",
      "|2024-11-08|226.96|38328820| 227.17|  228.66| 226.405|\n",
      "|2024-11-07|227.48|42137690|224.625| 227.875|  224.57|\n",
      "|2024-11-06|222.72|54561120| 222.61| 226.065|  221.19|\n",
      "|2024-11-05|223.45|28111340|221.795|  223.95|  221.14|\n",
      "|2024-11-04|222.01|44944470| 220.99|  222.79|  219.71|\n",
      "|2024-11-01|222.91|65276740|220.965|  225.35|  220.27|\n",
      "|2024-10-31|225.91|64370090| 229.34|  229.83|  225.37|\n",
      "|2024-10-30| 230.1|47070910| 232.61|  233.47|  229.55|\n",
      "|2024-10-29|233.67|35417250|  233.1| 234.325|  232.32|\n",
      "+----------+------+--------+-------+--------+--------+\n",
      "only showing top 20 rows\n",
      "\n"
     ]
    }
   ],
   "source": [
    "df.show()"
   ]
  },
  {
   "cell_type": "code",
   "execution_count": 15,
   "id": "47f1d5e0-e5ad-44e4-bf55-75f16dbab748",
   "metadata": {},
   "outputs": [
    {
     "name": "stdout",
     "output_type": "stream",
     "text": [
      "root\n",
      " |-- Date: date (nullable = true)\n",
      " |-- Close: double (nullable = true)\n",
      " |-- Volume: integer (nullable = true)\n",
      " |-- Open: double (nullable = true)\n",
      " |-- High: double (nullable = true)\n",
      " |-- Low: double (nullable = true)\n",
      "\n"
     ]
    }
   ],
   "source": [
    "df.printSchema()"
   ]
  },
  {
   "cell_type": "code",
   "execution_count": 12,
   "id": "61300ddc-465a-441b-b4bd-1cf18abe1234",
   "metadata": {},
   "outputs": [],
   "source": [
    "from pyspark.sql.types import StructField,StringType,IntegerType,StructType"
   ]
  },
  {
   "cell_type": "code",
   "execution_count": null,
   "id": "703aa279-942d-4ada-864a-08919693fd05",
   "metadata": {},
   "outputs": [],
   "source": []
  }
 ],
 "metadata": {
  "kernelspec": {
   "display_name": "Python 3 (ipykernel)",
   "language": "python",
   "name": "python3"
  },
  "language_info": {
   "codemirror_mode": {
    "name": "ipython",
    "version": 3
   },
   "file_extension": ".py",
   "mimetype": "text/x-python",
   "name": "python",
   "nbconvert_exporter": "python",
   "pygments_lexer": "ipython3",
   "version": "3.12.3"
  }
 },
 "nbformat": 4,
 "nbformat_minor": 5
}
